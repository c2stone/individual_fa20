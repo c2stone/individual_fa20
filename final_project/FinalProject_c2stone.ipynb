{
 "cells": [
  {
   "cell_type": "markdown",
   "metadata": {},
   "source": [
    "# COGS 108 - Final Project "
   ]
  },
  {
   "cell_type": "markdown",
   "metadata": {},
   "source": [
    "# Overview"
   ]
  },
  {
   "cell_type": "markdown",
   "metadata": {},
   "source": [
    "Parks are a great aspect of any city and provide numerous benefits to its citizens. However, there are often parks that are under-maintained and need improvement. In this study, I will attempt to find out what people in San Diego enjoy the most and least about the parks from Yelp reviews. Using this feedback, the San Diego Parks and Recreation department can see how the parks are enriching people's lives and how they can be improved."
   ]
  },
  {
   "cell_type": "markdown",
   "metadata": {},
   "source": [
    "# Name & GitHub ID\n",
    "\n",
    "- Name: Claire Stone\n",
    "- GitHub Username: c2stone"
   ]
  },
  {
   "cell_type": "markdown",
   "metadata": {},
   "source": [
    "# Research Question"
   ]
  },
  {
   "cell_type": "markdown",
   "metadata": {},
   "source": [
    "What do people in San Diego enjoy the most and the least about local parks?\n"
   ]
  },
  {
   "cell_type": "markdown",
   "metadata": {},
   "source": [
    "## Background and Prior Work"
   ]
  },
  {
   "cell_type": "markdown",
   "metadata": {},
   "source": [
    "Parks are a valuable part of cities. There are numerous benefits and things that people enjoy about them, but there are also aspects that can make a park not as enjoyable. There have been many studies related to the benefits of parks. These include providing a place for people to exercise, socialize with family and friends, and enjoy being outside in nature. There are also environmental and health benefits such as improving water and air quality, and community benefits such as crime reduction (1). Although all parks have the potential to provide all of these benefits, if they are not properly maintained there can be problems that are detrimental to people's enjoyment of them. Problems can include poor security, crowds, and litter.\n",
    "\n",
    "References (include links):\n",
    "- 1) \"Importance of Parks and Recreation\" - Eastern Kentucky University (https://recreation.eku.edu/importance-parks-and-recreation)"
   ]
  },
  {
   "cell_type": "markdown",
   "metadata": {},
   "source": [
    "# Hypothesis\n"
   ]
  },
  {
   "cell_type": "markdown",
   "metadata": {},
   "source": [
    "I predict that people will enjoy the aesthetics and socializing in the open space the most. I predict they will dislike litter in parks the least."
   ]
  },
  {
   "cell_type": "markdown",
   "metadata": {},
   "source": [
    "# Dataset(s)"
   ]
  },
  {
   "cell_type": "markdown",
   "metadata": {},
   "source": [
    "- Dataset Name: San Diego Parks Yelp Reviews\n",
    "- Link to the dataset: https://github.com/COGS108/individual_fa20/blob/master/data/yelp_SD_reviews.csv\n",
    "- Number of observations: 2333 total. Using 647 of these.\n",
    "\n",
    "This dataset has Yelp reviews for the San Diego parks. It includes 3 random reviews from each park and the ratings given by each reviewer."
   ]
  },
  {
   "cell_type": "markdown",
   "metadata": {},
   "source": [
    "# Setup"
   ]
  },
  {
   "cell_type": "code",
   "execution_count": 1,
   "metadata": {},
   "outputs": [],
   "source": [
    "import pandas as pd\n",
    "import numpy as np\n",
    "import nltk\n",
    "from nltk.tokenize import word_tokenize\n",
    "from nltk.corpus import stopwords\n",
    "stop_words = set(stopwords.words('english'))\n",
    "from nltk.stem import PorterStemmer\n",
    "ps = PorterStemmer()\n",
    "from nltk.probability import FreqDist\n",
    "import string\n",
    "\n",
    "from sklearn.feature_extraction.text import TfidfVectorizer\n",
    "\n",
    "import warnings\n",
    "warnings.filterwarnings('ignore')\n"
   ]
  },
  {
   "cell_type": "markdown",
   "metadata": {},
   "source": [
    "# Data Cleaning"
   ]
  },
  {
   "cell_type": "markdown",
   "metadata": {},
   "source": [
    "Describe your data cleaning steps here."
   ]
  },
  {
   "cell_type": "code",
   "execution_count": 2,
   "metadata": {},
   "outputs": [
    {
     "data": {
      "text/plain": [
       "(2333, 3)"
      ]
     },
     "execution_count": 2,
     "metadata": {},
     "output_type": "execute_result"
    }
   ],
   "source": [
    "# Load Yelp data\n",
    "data = pd.read_csv('yelp_SD_reviews.csv')\n",
    "data.shape\n"
   ]
  },
  {
   "cell_type": "code",
   "execution_count": 3,
   "metadata": {},
   "outputs": [],
   "source": [
    "# Only keep rows with 'Park' in the ID column - this will remove most of the other places such as restaurants\n",
    "yelp_rev = data[data['id'].str.contains('Park')]\n",
    "\n",
    "# Remove rows with ids with 'North Park' - there are some businesses such as the Observatory North Park\n",
    "# which are not parks. The remaining rows should be mostly parks.\n",
    "yelp_rev = yelp_rev[~yelp_rev['id'].str.contains('North Park')]\n",
    "\n",
    "# Take the 4 and 5 star reviews for what people like.\n",
    "yelp_rev_p = yelp_rev.loc[(yelp_rev['rating'] == 5) | (yelp_rev['rating']==4)]\n",
    "\n",
    "# Take the 1 and 2 star reviews for what people don't like.\n",
    "yelp_rev_n = yelp_rev.loc[(yelp_rev['rating'] == 2) | (yelp_rev['rating']==1)]"
   ]
  },
  {
   "cell_type": "markdown",
   "metadata": {},
   "source": [
    "# Data Analysis & Results"
   ]
  },
  {
   "cell_type": "markdown",
   "metadata": {},
   "source": [
    "Include cells that describe the steps in your data analysis."
   ]
  },
  {
   "cell_type": "code",
   "execution_count": 4,
   "metadata": {},
   "outputs": [],
   "source": [
    "# Tokenize reviews\n",
    "yelp_rev_p['rev_token'] = yelp_rev_p['text'].apply(word_tokenize)\n",
    "yelp_rev_n['rev_token'] = yelp_rev_n['text'].apply(word_tokenize)\n",
    "\n",
    "# Remove stopwords\n",
    "yelp_rev_p['rev_stop'] = yelp_rev_p['rev_token'].apply(lambda x: [item for item in x if item not in stop_words])\n",
    "yelp_rev_n['rev_stop'] = yelp_rev_n['rev_token'].apply(lambda x: [item for item in x if item not in stop_words])\n",
    "\n",
    "# Stemming\n",
    "yelp_rev_p['rev_stem'] = yelp_rev_p['rev_stop'].apply(lambda x: [ps.stem(y) for y in x])\n",
    "yelp_rev_n['rev_stem'] = yelp_rev_n['rev_stop'].apply(lambda x: [ps.stem(y) for y in x])\n",
    "\n",
    "# Stack\n",
    "rev_words_p = yelp_rev_p['rev_stem'].apply(pd.Series).stack()\n",
    "rev_words_n = yelp_rev_n['rev_stem'].apply(pd.Series).stack()\n"
   ]
  },
  {
   "cell_type": "code",
   "execution_count": 5,
   "metadata": {},
   "outputs": [],
   "source": [
    "# Calculate word frequency and remove punctuation\n",
    "rev_fdist_p = FreqDist(rev_words_p)\n",
    "rev_fdist_n = FreqDist(rev_words_n)\n",
    "\n",
    "for punc in string.punctuation:\n",
    "    del rev_fdist_p[punc]\n",
    "    del rev_fdist_n[punc]"
   ]
  },
  {
   "cell_type": "code",
   "execution_count": 6,
   "metadata": {
    "scrolled": true
   },
   "outputs": [
    {
     "data": {
      "image/png": "[encoded data removed]",
      "text/plain": [
       "<Figure size 432x288 with 1 Axes>"
      ]
     },
     "metadata": {
      "needs_background": "light"
     },
     "output_type": "display_data"
    },
    {
     "data": {
      "image/png": "[encoded data removed]",
      "text/plain": [
       "<Figure size 432x288 with 1 Axes>"
      ]
     },
     "metadata": {
      "needs_background": "light"
     },
     "output_type": "display_data"
    },
    {
     "data": {
      "text/plain": [
       "<matplotlib.axes._subplots.AxesSubplot at 0x7fb0ce51bcd0>"
      ]
     },
     "execution_count": 6,
     "metadata": {},
     "output_type": "execute_result"
    }
   ],
   "source": [
    "# Plot frequency distribution - top 25 words\n",
    "rev_fdist_p.plot(25, cumulative = False)\n",
    "rev_fdist_n.plot(25, cumulative = False)\n",
    "\n",
    "# These plots show the most frequently used words for the positive and negative reviews."
   ]
  },
  {
   "cell_type": "code",
   "execution_count": 7,
   "metadata": {},
   "outputs": [],
   "source": [
    "## TF-IDF Analysis\n",
    "\n",
    "import string \n",
    "\n",
    "# Change text to lowercase\n",
    "p_list = list(yelp_rev_p['text'].values)\n",
    "n_list = list(yelp_rev_n['text'].values)\n",
    "\n",
    "rev_pl = list(map(str.lower, p_list))\n",
    "rev_nl = list(map(str.lower, n_list))\n",
    "\n",
    "# Remove punctuation\n",
    "for i in string.punctuation:\n",
    "    rev_pl = str(rev_pl).replace(i, \"\")\n",
    "    rev_nl = str(rev_nl).replace(i, \"\")\n",
    "\n",
    "# Create corpus\n",
    "corpus = [str(rev_pl), str(rev_nl)]\n",
    "\n",
    "# Create vectorizer\n",
    "tfidf = TfidfVectorizer(sublinear_tf=True, analyzer='word', max_features=2000, tokenizer=word_tokenize,\n",
    "                        stop_words=stop_words)\n"
   ]
  },
  {
   "cell_type": "code",
   "execution_count": 8,
   "metadata": {},
   "outputs": [],
   "source": [
    "# Calculate TF-IDF\n",
    "yelp_tfidf = pd.DataFrame(tfidf.fit_transform(corpus).toarray())\n",
    "yelp_tfidf.columns = tfidf.get_feature_names()\n",
    "yelp_tfidf = yelp_tfidf.rename(index={0:'pos', 1:'neg'})\n"
   ]
  },
  {
   "cell_type": "code",
   "execution_count": 9,
   "metadata": {},
   "outputs": [
    {
     "data": {
      "text/html": [
       "<div>\n",
       "<style scoped>\n",
       "    .dataframe tbody tr th:only-of-type {\n",
       "        vertical-align: middle;\n",
       "    }\n",
       "\n",
       "    .dataframe tbody tr th {\n",
       "        vertical-align: top;\n",
       "    }\n",
       "\n",
       "    .dataframe thead th {\n",
       "        text-align: right;\n",
       "    }\n",
       "</style>\n",
       "<table border=\"1\" class=\"dataframe\">\n",
       "  <thead>\n",
       "    <tr style=\"text-align: right;\">\n",
       "      <th></th>\n",
       "      <th>little</th>\n",
       "      <th>park</th>\n",
       "      <th>san</th>\n",
       "      <th>diego</th>\n",
       "      <th>beautiful</th>\n",
       "      <th>ive</th>\n",
       "      <th>beach</th>\n",
       "      <th>going</th>\n",
       "      <th>areas</th>\n",
       "      <th>two</th>\n",
       "      <th>...</th>\n",
       "      <th>poo</th>\n",
       "      <th>portions</th>\n",
       "      <th>corp</th>\n",
       "      <th>stepping</th>\n",
       "      <th>possible</th>\n",
       "      <th>sign</th>\n",
       "      <th>consnthis</th>\n",
       "      <th>unhappy</th>\n",
       "      <th>units</th>\n",
       "      <th>rooftop</th>\n",
       "    </tr>\n",
       "  </thead>\n",
       "  <tbody>\n",
       "    <tr>\n",
       "      <th>pos</th>\n",
       "      <td>0.069535</td>\n",
       "      <td>0.066022</td>\n",
       "      <td>0.064216</td>\n",
       "      <td>0.063463</td>\n",
       "      <td>0.063202</td>\n",
       "      <td>0.055972</td>\n",
       "      <td>0.055502</td>\n",
       "      <td>0.055502</td>\n",
       "      <td>0.055014</td>\n",
       "      <td>0.05343</td>\n",
       "      <td>...</td>\n",
       "      <td>0.000000</td>\n",
       "      <td>0.000000</td>\n",
       "      <td>0.000000</td>\n",
       "      <td>0.000000</td>\n",
       "      <td>0.000000</td>\n",
       "      <td>0.000000</td>\n",
       "      <td>0.000000</td>\n",
       "      <td>0.000000</td>\n",
       "      <td>0.000000</td>\n",
       "      <td>0.000000</td>\n",
       "    </tr>\n",
       "    <tr>\n",
       "      <th>neg</th>\n",
       "      <td>0.000000</td>\n",
       "      <td>0.132899</td>\n",
       "      <td>0.000000</td>\n",
       "      <td>0.000000</td>\n",
       "      <td>0.000000</td>\n",
       "      <td>0.000000</td>\n",
       "      <td>0.000000</td>\n",
       "      <td>0.000000</td>\n",
       "      <td>0.000000</td>\n",
       "      <td>0.00000</td>\n",
       "      <td>...</td>\n",
       "      <td>0.038345</td>\n",
       "      <td>0.038345</td>\n",
       "      <td>0.038345</td>\n",
       "      <td>0.038345</td>\n",
       "      <td>0.038345</td>\n",
       "      <td>0.064924</td>\n",
       "      <td>0.038345</td>\n",
       "      <td>0.038345</td>\n",
       "      <td>0.038345</td>\n",
       "      <td>0.038345</td>\n",
       "    </tr>\n",
       "  </tbody>\n",
       "</table>\n",
       "<p>2 rows × 2000 columns</p>\n",
       "</div>"
      ],
      "text/plain": [
       "       little      park       san     diego  beautiful       ive     beach  \\\n",
       "pos  0.069535  0.066022  0.064216  0.063463   0.063202  0.055972  0.055502   \n",
       "neg  0.000000  0.132899  0.000000  0.000000   0.000000  0.000000  0.000000   \n",
       "\n",
       "        going     areas      two  ...       poo  portions      corp  stepping  \\\n",
       "pos  0.055502  0.055014  0.05343  ...  0.000000  0.000000  0.000000  0.000000   \n",
       "neg  0.000000  0.000000  0.00000  ...  0.038345  0.038345  0.038345  0.038345   \n",
       "\n",
       "     possible      sign  consnthis   unhappy     units   rooftop  \n",
       "pos  0.000000  0.000000   0.000000  0.000000  0.000000  0.000000  \n",
       "neg  0.038345  0.064924   0.038345  0.038345  0.038345  0.038345  \n",
       "\n",
       "[2 rows x 2000 columns]"
      ]
     },
     "execution_count": 9,
     "metadata": {},
     "output_type": "execute_result"
    }
   ],
   "source": [
    "# TF-IDF for the positive reviews - the table shows, in order, the most important words to these reviews.\n",
    "yelp_tfidf.sort_values(by='pos', axis=1, ascending=False)"
   ]
  },
  {
   "cell_type": "code",
   "execution_count": 10,
   "metadata": {},
   "outputs": [
    {
     "data": {
      "text/html": [
       "<div>\n",
       "<style scoped>\n",
       "    .dataframe tbody tr th:only-of-type {\n",
       "        vertical-align: middle;\n",
       "    }\n",
       "\n",
       "    .dataframe tbody tr th {\n",
       "        vertical-align: top;\n",
       "    }\n",
       "\n",
       "    .dataframe thead th {\n",
       "        text-align: right;\n",
       "    }\n",
       "</style>\n",
       "<table border=\"1\" class=\"dataframe\">\n",
       "  <thead>\n",
       "    <tr style=\"text-align: right;\">\n",
       "      <th></th>\n",
       "      <th>park</th>\n",
       "      <th>dog</th>\n",
       "      <th>drug</th>\n",
       "      <th>people</th>\n",
       "      <th>time</th>\n",
       "      <th>homeless</th>\n",
       "      <th>listen</th>\n",
       "      <th>born</th>\n",
       "      <th>leaf</th>\n",
       "      <th>blowers</th>\n",
       "      <th>...</th>\n",
       "      <th>husky</th>\n",
       "      <th>husband</th>\n",
       "      <th>hurt</th>\n",
       "      <th>humans</th>\n",
       "      <th>houses</th>\n",
       "      <th>houlihan</th>\n",
       "      <th>hotel</th>\n",
       "      <th>hot</th>\n",
       "      <th>host</th>\n",
       "      <th>zoo</th>\n",
       "    </tr>\n",
       "  </thead>\n",
       "  <tbody>\n",
       "    <tr>\n",
       "      <th>pos</th>\n",
       "      <td>0.066022</td>\n",
       "      <td>0.049813</td>\n",
       "      <td>0.000000</td>\n",
       "      <td>0.043103</td>\n",
       "      <td>0.046676</td>\n",
       "      <td>0.015564</td>\n",
       "      <td>0.000000</td>\n",
       "      <td>0.000000</td>\n",
       "      <td>0.000000</td>\n",
       "      <td>0.000000</td>\n",
       "      <td>...</td>\n",
       "      <td>0.021875</td>\n",
       "      <td>0.033714</td>\n",
       "      <td>0.021875</td>\n",
       "      <td>0.021875</td>\n",
       "      <td>0.021875</td>\n",
       "      <td>0.021875</td>\n",
       "      <td>0.030831</td>\n",
       "      <td>0.030831</td>\n",
       "      <td>0.030831</td>\n",
       "      <td>0.021875</td>\n",
       "    </tr>\n",
       "    <tr>\n",
       "      <th>neg</th>\n",
       "      <td>0.132899</td>\n",
       "      <td>0.107615</td>\n",
       "      <td>0.091502</td>\n",
       "      <td>0.087229</td>\n",
       "      <td>0.087229</td>\n",
       "      <td>0.087229</td>\n",
       "      <td>0.080471</td>\n",
       "      <td>0.080471</td>\n",
       "      <td>0.080471</td>\n",
       "      <td>0.080471</td>\n",
       "      <td>...</td>\n",
       "      <td>0.000000</td>\n",
       "      <td>0.000000</td>\n",
       "      <td>0.000000</td>\n",
       "      <td>0.000000</td>\n",
       "      <td>0.000000</td>\n",
       "      <td>0.000000</td>\n",
       "      <td>0.000000</td>\n",
       "      <td>0.000000</td>\n",
       "      <td>0.000000</td>\n",
       "      <td>0.000000</td>\n",
       "    </tr>\n",
       "  </tbody>\n",
       "</table>\n",
       "<p>2 rows × 2000 columns</p>\n",
       "</div>"
      ],
      "text/plain": [
       "         park       dog      drug    people      time  homeless    listen  \\\n",
       "pos  0.066022  0.049813  0.000000  0.043103  0.046676  0.015564  0.000000   \n",
       "neg  0.132899  0.107615  0.091502  0.087229  0.087229  0.087229  0.080471   \n",
       "\n",
       "         born      leaf   blowers  ...     husky   husband      hurt  \\\n",
       "pos  0.000000  0.000000  0.000000  ...  0.021875  0.033714  0.021875   \n",
       "neg  0.080471  0.080471  0.080471  ...  0.000000  0.000000  0.000000   \n",
       "\n",
       "       humans    houses  houlihan     hotel       hot      host       zoo  \n",
       "pos  0.021875  0.021875  0.021875  0.030831  0.030831  0.030831  0.021875  \n",
       "neg  0.000000  0.000000  0.000000  0.000000  0.000000  0.000000  0.000000  \n",
       "\n",
       "[2 rows x 2000 columns]"
      ]
     },
     "execution_count": 10,
     "metadata": {},
     "output_type": "execute_result"
    }
   ],
   "source": [
    "# TF-IDF for the negative reviews - the table shows, in order, the most important words to these reviews.\n",
    "yelp_tfidf.sort_values(by='neg', axis=1, ascending=False)"
   ]
  },
  {
   "cell_type": "markdown",
   "metadata": {},
   "source": [
    "# Ethics & Privacy"
   ]
  },
  {
   "cell_type": "markdown",
   "metadata": {},
   "source": [
    "In this study, there are no privacy concerns. All review data from Yelp was posted on the internet with consent from the poster for all to see. Furthermore, there is no private data attached to the reviews such as name or address of the reviewer, and even the Yelp username is not included for complete anonymity.\n"
   ]
  },
  {
   "cell_type": "markdown",
   "metadata": {},
   "source": [
    "# Conclusion & Discussion"
   ]
  },
  {
   "cell_type": "markdown",
   "metadata": {},
   "source": [
    "In this study, I attempted to discern what San Diego citizens enjoy the most and least about local parks in order to provide feedback to the Parks and Recreation department. I performed frequency and TF-IDF analysis on Yelp reviews of the San Diego parks. From the TF-IDF analysis of the positive reviews, \"beautiful\" was one of the most important words which suggests that people enjoy the aesthetics of nature in the parks the most. From the TF-IDF analysis of the negative reviews, \"dog\", \"drug\", and \"homeless\" were 3 of the most important words. This suggests that people are bothered by others' dogs, homeless people, and may suspect that others are using drugs in the parks. In my hypothesis I predicted that people would enjoy the aesthetics and the social aspect the most; however, no words relating to socializing were in the most important words of the positive reviews. I also predicted that people would be bothered the most by litter in parks; however, that was not the case.\n",
    "\n",
    "There are many limitations to this study that may affect its conclusions. First, the Yelp dataset also included reviews of businesses that were not parks. I attempted to remove these during data cleaning but may have missed a few. Second, only 3 Yelp reviews were used for every park, which is likely too few to get a full idea of what people enjoy the most and least about the parks. Third, there are some limitations to the TF-IDF analysis. Many of the most important words for the positive reviews were common words such as \"San\", \"Diego\", \"park\", \"little\", etc. Additionally, the meaning of some words could have been lost due to the stemming part of data analysis. For example, in the negative reviews, if reviewers complained about \"parking\" it would be shortened to \"park\".\n"
   ]
  }
 ],
 "metadata": {
  "kernelspec": {
   "display_name": "Python 3",
   "language": "python",
   "name": "python3"
  },
  "language_info": {
   "codemirror_mode": {
    "name": "ipython",
    "version": 3
   },
   "file_extension": ".py",
   "mimetype": "text/x-python",
   "name": "python",
   "nbconvert_exporter": "python",
   "pygments_lexer": "ipython3",
   "version": "3.7.6"
  }
 },
 "nbformat": 4,
 "nbformat_minor": 2
}
